{
 "cells": [
  {
   "cell_type": "markdown",
   "id": "34c40697",
   "metadata": {},
   "source": [
    "## Karsten Errando Winoto\n",
    "## 21102254\n",
    "## IF 09 SC 1"
   ]
  },
  {
   "cell_type": "markdown",
   "id": "d2baf6fb",
   "metadata": {},
   "source": [
    "# Import libray"
   ]
  },
  {
   "cell_type": "code",
   "execution_count": 14,
   "id": "0dcaddaa",
   "metadata": {},
   "outputs": [],
   "source": [
    "import numpy as np \n",
    "import cv2 as cv\n",
    "import os \n",
    "import torch \n",
    "import torch.nn as nn\n",
    "import torch.optim as optim \n",
    "import torch.nn.functional as F\n",
    "import matplotlib.pyplot as plt\n",
    "\n",
    "\n",
    "from glob import glob\n",
    "from torch.utils.data import Dataset, DataLoader"
   ]
  },
  {
   "cell_type": "markdown",
   "id": "966ab487",
   "metadata": {},
   "source": [
    "# Dataset"
   ]
  },
  {
   "cell_type": "code",
   "execution_count": 43,
   "id": "a013f0d8",
   "metadata": {},
   "outputs": [],
   "source": [
    "a = 'D:/SEKOLAH/KULIAH/SEMESTER 6/PENGENALAN POLA/transformer/DS_GEKCO/ALBINO'\n",
    "b = 'D:/SEKOLAH\\KULIAH/SEMESTER 6/PENGENALAN POLA/transformer/DS_GEKCO/BOLDSTRIPE'\n",
    "ab  = 'D:/SEKOLAH/KULIAH/SEMESTER 6/PENGENALAN POLA/transformer/DS_GEKCO/BOLDSTIPE_ALBINO'"
   ]
  },
  {
   "cell_type": "code",
   "execution_count": 59,
   "id": "921ef468",
   "metadata": {},
   "outputs": [],
   "source": [
    "def ambil_data(folder):\n",
    "    gecko = []\n",
    "    dir_list = os.listdir(folder)\n",
    "    for i in dir_list :\n",
    "      data = cv.imread(folder + '/' + i)\n",
    "      data = cv.resize(data,(300,300))\n",
    "      data = data/255\n",
    "      gecko.append(data)\n",
    "    return gecko"
   ]
  },
  {
   "cell_type": "code",
   "execution_count": 60,
   "id": "77840e46",
   "metadata": {},
   "outputs": [],
   "source": [
    "data_a = np.array(ambil_data(a))\n",
    "data_b = np.array(ambil_data(b))\n",
    "data_ab = np.array(ambil_data(ab))"
   ]
  },
  {
   "cell_type": "code",
   "execution_count": 51,
   "id": "a5669a89",
   "metadata": {},
   "outputs": [],
   "source": [
    "class TrajectoriesData(torch.utils.data.Dataset):\n",
    "    def __init__(self, data):\n",
    "        to1hot = np.eye(3)\n",
    "        self.dataset = []\n",
    "        for d, label in data:\n",
    "            #print(d, label)\n",
    "            self.dataset += [\n",
    "                (im, to1hot[label]) for im in d\n",
    "            ]\n",
    "        #print(len(self.dataset))\n",
    "    def __len__(self):\n",
    "            return len(self.dataset)\n",
    "\n",
    "    def __getitem__(self, index:int) -> (np.ndarray, int):\n",
    "            vec, label = self.dataset[index]\n",
    "            return torch.tensor(vec, dtype=torch.float32), torch.tensor(label, dtype=torch.float32)"
   ]
  },
  {
   "cell_type": "code",
   "execution_count": 61,
   "id": "4afec3f7",
   "metadata": {},
   "outputs": [],
   "source": [
    "train_data = torch.utils.data.DataLoader(TrajectoriesData([\n",
    "    (data_a[:16],0),\n",
    "    (data_b[:16],1),\n",
    "    (data_ab[:16],2)\n",
    "    ]),batch_size=8,shuffle = True)\n",
    "test_data = torch.utils.data.DataLoader(TrajectoriesData([\n",
    "    (data_a[16:],0),\n",
    "    (data_b[16:],1),\n",
    "    (data_ab[16:],2)]),batch_size=8,shuffle = True)"
   ]
  },
  {
   "cell_type": "markdown",
   "id": "67a7357c",
   "metadata": {},
   "source": [
    "# Model Transfomer"
   ]
  },
  {
   "cell_type": "code",
   "execution_count": 56,
   "id": "2b177d97",
   "metadata": {},
   "outputs": [],
   "source": [
    "class CNNFormer(nn.Module):\n",
    "  def __init__(self, feature_dim, dff=1024, num_head=1,num_layer=1, n_class=3, dropout=0.1, device='cpu'):\n",
    "    super(CNNFormer, self).__init__()\n",
    "    self.layer = num_layer\n",
    "    self.conv = nn.Sequential(\n",
    "      nn.Conv2d(feature_dim, 20, 2),\n",
    "      nn.ReLU(),\n",
    "      nn.MaxPool2d(2, 2),\n",
    "      nn.Conv2d(20, 20, 5),\n",
    "      nn.ReLU(),\n",
    "      nn.MaxPool2d(2, 2),\n",
    "      nn.Conv2d(20, 20, 3),\n",
    "      nn.ReLU(),\n",
    "      nn.MaxPool2d(2, 2),\n",
    "      nn.Conv2d(20, 20, 3),\n",
    "      nn.ReLU(),\n",
    "      nn.MaxPool2d(2, 2),\n",
    "      nn.Dropout(p=dropout),\n",
    "    )\n",
    "\n",
    "    # Hitung hidden_dim berdasarkan jumlah filter terbanyak\n",
    "    self.hidden_dim = 20\n",
    "    self.MHA = nn.MultiheadAttention(embed_dim=self.hidden_dim,num_heads=num_head, bias=False, dropout=dropout).to(device)\n",
    "    self.feed_forward = nn.Sequential(\n",
    "      nn.Linear(self.hidden_dim, dff),\n",
    "      nn.ReLU(),\n",
    "      nn.Linear(dff, self.hidden_dim)\n",
    "    )\n",
    "    self.norm = nn.LayerNorm(self.hidden_dim)\n",
    "    # Sesuaikan dimensi lapisan linear\n",
    "    self.lin_out = nn.Linear(self.hidden_dim * 256, n_class) #Ubah input size\n",
    "  def forward(self, x):\n",
    "    # Layer convolution\n",
    "    x = self.conv(x)\n",
    "    # Ubah dimensi tensor untuk sesuai dengan input multi-head  attention\n",
    "    batch_size, channels, height, width = x.size()\n",
    "    x = x.view(batch_size, channels, -1).permute(0, 2, 1)\n",
    "    # Layer transformer encoder\n",
    "    for i in range(self.layer):\n",
    "      y, _ = self.MHA(x, x, x)\n",
    "      x = x + self.norm(y)\n",
    "      y = self.feed_forward(x)\n",
    "      x = x + self.norm(y)\n",
    "      # Kembalikan dimensi ke format semula\n",
    "      x = x.permute(0, 2, 1).view(batch_size, channels, height,\n",
    "      width)\n",
    "      # Ubah dimensi tensor untuk sesuai dengan lapisan linear\n",
    "      x = x.reshape(batch_size, -1)\n",
    "      # Layer linear output\n",
    "      x = self.lin_out(x)\n",
    "    return x"
   ]
  },
  {
   "cell_type": "markdown",
   "id": "142f0944",
   "metadata": {},
   "source": [
    "# Training"
   ]
  },
  {
   "cell_type": "code",
   "execution_count": 74,
   "id": "70e4f980",
   "metadata": {},
   "outputs": [
    {
     "name": "stdout",
     "output_type": "stream",
     "text": [
      "epoch =  1 loss =  42.325591723124184\n",
      "epoch =  2 loss =  17.863060156504314\n",
      "epoch =  3 loss =  18.651796499888103\n",
      "epoch =  4 loss =  11.570704619089762\n",
      "epoch =  5 loss =  3.0522598028182983\n",
      "epoch =  6 loss =  2.414849122365316\n",
      "epoch =  7 loss =  1.7663383881251018\n",
      "epoch =  8 loss =  1.7094372709592183\n",
      "epoch =  9 loss =  1.2334266602993011\n",
      "epoch =  10 loss =  1.14446359872818\n",
      "epoch =  11 loss =  0.8024360438187917\n",
      "epoch =  12 loss =  0.6705786262949308\n",
      "epoch =  13 loss =  0.4636789212624232\n",
      "epoch =  14 loss =  0.4453135480483373\n",
      "epoch =  15 loss =  0.36800756057103473\n",
      "epoch =  16 loss =  0.3096693481008212\n",
      "epoch =  17 loss =  0.23340114826957384\n",
      "epoch =  18 loss =  0.22541281022131443\n",
      "epoch =  19 loss =  0.18808684249718985\n",
      "epoch =  20 loss =  0.1617281505217155\n",
      "epoch =  21 loss =  0.1550466310388098\n",
      "epoch =  22 loss =  0.21084322780370712\n",
      "epoch =  23 loss =  0.19260448838273683\n",
      "epoch =  24 loss =  0.10006762358049552\n",
      "epoch =  25 loss =  0.12388019263744354\n",
      "epoch =  26 loss =  0.1028813966549933\n",
      "epoch =  27 loss =  0.08663245290517807\n",
      "epoch =  28 loss =  0.09758286585565656\n",
      "epoch =  29 loss =  1.2077243522120018\n",
      "epoch =  30 loss =  1.5915036549170811\n",
      "epoch =  31 loss =  0.9873543406526247\n",
      "epoch =  32 loss =  0.5971604585647583\n",
      "epoch =  33 loss =  0.5884422411521276\n",
      "epoch =  34 loss =  0.46154094239075977\n",
      "epoch =  35 loss =  0.39580942690372467\n",
      "epoch =  36 loss =  0.4093426590164502\n",
      "epoch =  37 loss =  0.2870166227221489\n",
      "epoch =  38 loss =  0.2937503531575203\n",
      "epoch =  39 loss =  0.21004748406509557\n",
      "epoch =  40 loss =  0.23763410250345865\n",
      "epoch =  41 loss =  0.22248655495544276\n",
      "epoch =  42 loss =  0.18084830542405447\n",
      "epoch =  43 loss =  0.18886608692506948\n",
      "epoch =  44 loss =  0.18149673535178104\n",
      "epoch =  45 loss =  0.1836937591433525\n",
      "epoch =  46 loss =  0.161149799823761\n",
      "epoch =  47 loss =  0.2304727497200171\n",
      "epoch =  48 loss =  0.18856615332576135\n",
      "epoch =  49 loss =  0.36378379763724905\n",
      "epoch =  50 loss =  0.2849637344479561\n",
      "epoch =  51 loss =  0.39991557225584984\n",
      "epoch =  52 loss =  0.6226272247731686\n",
      "epoch =  53 loss =  0.2522827343006308\n",
      "epoch =  54 loss =  0.24602096194090942\n",
      "epoch =  55 loss =  0.1455791120727857\n",
      "epoch =  56 loss =  0.11290653608739376\n",
      "epoch =  57 loss =  0.10522225530197223\n",
      "epoch =  58 loss =  0.10002634685952216\n",
      "epoch =  59 loss =  0.09250165382400155\n",
      "epoch =  60 loss =  0.08858562943733735\n",
      "epoch =  61 loss =  0.05525795457591206\n",
      "epoch =  62 loss =  0.10260904801543802\n",
      "epoch =  63 loss =  0.1055069158455808\n",
      "epoch =  64 loss =  0.09767123206984252\n",
      "epoch =  65 loss =  0.12218470911708816\n",
      "epoch =  66 loss =  0.09935918029320116\n",
      "epoch =  67 loss =  0.07592008441103341\n",
      "epoch =  68 loss =  0.07324064212540786\n",
      "epoch =  69 loss =  0.0784682771191001\n",
      "epoch =  70 loss =  0.10060081312743326\n",
      "epoch =  71 loss =  0.07186303482255123\n",
      "epoch =  72 loss =  0.08657864985677104\n",
      "epoch =  73 loss =  0.07202716892606986\n",
      "epoch =  74 loss =  0.09377789150069778\n",
      "epoch =  75 loss =  0.043872285432977755\n",
      "epoch =  76 loss =  0.07147274597070918\n",
      "epoch =  77 loss =  0.08001746375036116\n",
      "epoch =  78 loss =  0.05231952578469645\n",
      "epoch =  79 loss =  0.05364197242064014\n",
      "epoch =  80 loss =  0.05597065988210185\n",
      "epoch =  81 loss =  0.5884090069060525\n",
      "epoch =  82 loss =  0.623063862323761\n",
      "epoch =  83 loss =  0.567642460266749\n",
      "epoch =  84 loss =  0.3056565622488658\n",
      "epoch =  85 loss =  0.2172660684833924\n",
      "epoch =  86 loss =  0.1681810918574532\n",
      "epoch =  87 loss =  0.20364168069014946\n",
      "epoch =  88 loss =  0.10511639559020598\n",
      "epoch =  89 loss =  0.1242326027713716\n",
      "epoch =  90 loss =  0.22977701450387636\n",
      "epoch =  91 loss =  0.2026810898429782\n",
      "epoch =  92 loss =  0.12321374503272864\n",
      "epoch =  93 loss =  0.091235012980178\n",
      "epoch =  94 loss =  0.0764797128116091\n",
      "epoch =  95 loss =  0.07124346361282126\n",
      "epoch =  96 loss =  0.07969882797139387\n",
      "epoch =  97 loss =  0.06369163658625136\n",
      "epoch =  98 loss =  0.057105064396940484\n",
      "epoch =  99 loss =  0.08895114729238192\n",
      "epoch =  100 loss =  0.05272096818468223\n"
     ]
    }
   ],
   "source": [
    "model = CNNFormer(feature_dim = 3 )\n",
    "model.to(device='cpu')\n",
    "optimizer = optim.Adam(model.parameters(), lr = 0.01)\n",
    "criterion  = nn.CrossEntropyLoss()\n",
    "EPOCH = 100\n",
    "device = 'cpu'\n",
    "loss_all = []\n",
    "for epoch in range(EPOCH):\n",
    "    loss_total = 0\n",
    "    for batch, (src, trg) in enumerate(train_data):\n",
    "        #print(src.shape)\n",
    "        #print(trg.shape)\n",
    "        src = src.permute(0,3,1,2)\n",
    "        pred = model(src).to(device)\n",
    "        loss = criterion(pred, trg.to(device))\n",
    "        loss_total+=loss.item()\n",
    "        # Backward pass\n",
    "        optimizer.zero_grad()\n",
    "        loss.backward()\n",
    "        optimizer.step()\n",
    "    loss_batch = loss_total / len(train_data)\n",
    "    loss_all.append(loss_batch)\n",
    "    print(\"epoch = \", epoch + 1, \"loss = \", loss_batch)"
   ]
  },
  {
   "cell_type": "markdown",
   "id": "2461a4c1",
   "metadata": {},
   "source": [
    "# Evaluasi"
   ]
  },
  {
   "cell_type": "code",
   "execution_count": 75,
   "id": "07c68dc1",
   "metadata": {},
   "outputs": [
    {
     "data": {
      "image/png": "[encoded data removed]",
      "text/plain": [
       "<Figure size 640x480 with 1 Axes>"
      ]
     },
     "metadata": {},
     "output_type": "display_data"
    }
   ],
   "source": [
    "plt.plot(loss_all)\n",
    "plt.title('Grafik Loss')\n",
    "plt.xlabel('Epoch')\n",
    "plt.ylabel('Loss')\n",
    "plt.show()"
   ]
  },
  {
   "cell_type": "code",
   "execution_count": 77,
   "id": "b306067c",
   "metadata": {},
   "outputs": [
    {
     "name": "stdout",
     "output_type": "stream",
     "text": [
      "Test sample:  12\n",
      "Test correct:  5\n",
      "Test Accuracy: 41.67%\n"
     ]
    }
   ],
   "source": [
    "model.eval() #mode evaluasi\n",
    "total_correct = 0\n",
    "total_samples = 0\n",
    "with torch.no_grad():\n",
    "  for batch, (src, trg) in enumerate(test_data):\n",
    "    src = src.permute(0, 3, 1, 2)\n",
    "    # Forward pass\n",
    "    pred = model(src).to(device)\n",
    "    # Hitung jumlah prediksi yang benar\n",
    "    total_correct += (torch.argmax(pred, dim=1) == torch.argmax(trg, dim=1)).sum().item()\n",
    "    total_samples += trg.size(0)\n",
    "accuracy = total_correct / total_samples\n",
    "print(f'Test sample: ', total_samples)\n",
    "print(f'Test correct: ', total_correct)\n",
    "print(f'Test Accuracy: {accuracy * 100:.2f}%')"
   ]
  }
 ],
 "metadata": {
  "kernelspec": {
   "display_name": "Python 3 (ipykernel)",
   "language": "python",
   "name": "python3"
  },
  "language_info": {
   "codemirror_mode": {
    "name": "ipython",
    "version": 3
   },
   "file_extension": ".py",
   "mimetype": "text/x-python",
   "name": "python",
   "nbconvert_exporter": "python",
   "pygments_lexer": "ipython3",
   "version": "3.10.5"
  }
 },
 "nbformat": 4,
 "nbformat_minor": 5
}
